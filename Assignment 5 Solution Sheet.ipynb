{
 "cells": [
  {
   "cell_type": "markdown",
   "metadata": {},
   "source": [
    "## Importing libraries"
   ]
  },
  {
   "cell_type": "code",
   "execution_count": null,
   "metadata": {},
   "outputs": [],
   "source": [
    "import pandas as pd\n",
    "import matplotlib.pyplot as plt\n",
    "import numpy as np\n",
    "import seaborn as sns\n",
    "from sklearn.model_selection import train_test_split\n",
    "from sklearn.metrics import accuracy_score\n",
    "from sklearn.metrics import confusion_matrix\n",
    "import nltk"
   ]
  },
  {
   "cell_type": "markdown",
   "metadata": {},
   "source": [
    "## Importing Data"
   ]
  },
  {
   "cell_type": "code",
   "execution_count": 114,
   "metadata": {},
   "outputs": [
    {
     "name": "stdout",
     "output_type": "stream",
     "text": [
      "(10000, 10)\n"
     ]
    }
   ],
   "source": [
    "data = pd.read_csv('D:/Distance Learning Courses/Predictive Analytics and Machine Learning/yelp.csv')\n",
    "print(data.shape)"
   ]
  },
  {
   "cell_type": "markdown",
   "metadata": {},
   "source": [
    "## Basic Data Exploration"
   ]
  },
  {
   "cell_type": "code",
   "execution_count": 115,
   "metadata": {},
   "outputs": [
    {
     "data": {
      "text/html": [
       "<div>\n",
       "<style scoped>\n",
       "    .dataframe tbody tr th:only-of-type {\n",
       "        vertical-align: middle;\n",
       "    }\n",
       "\n",
       "    .dataframe tbody tr th {\n",
       "        vertical-align: top;\n",
       "    }\n",
       "\n",
       "    .dataframe thead th {\n",
       "        text-align: right;\n",
       "    }\n",
       "</style>\n",
       "<table border=\"1\" class=\"dataframe\">\n",
       "  <thead>\n",
       "    <tr style=\"text-align: right;\">\n",
       "      <th></th>\n",
       "      <th>business_id</th>\n",
       "      <th>date</th>\n",
       "      <th>review_id</th>\n",
       "      <th>stars</th>\n",
       "      <th>text</th>\n",
       "      <th>type</th>\n",
       "      <th>user_id</th>\n",
       "      <th>cool</th>\n",
       "      <th>useful</th>\n",
       "      <th>funny</th>\n",
       "    </tr>\n",
       "  </thead>\n",
       "  <tbody>\n",
       "    <tr>\n",
       "      <th>0</th>\n",
       "      <td>9yKzy9PApeiPPOUJEtnvkg</td>\n",
       "      <td>2011-01-26</td>\n",
       "      <td>fWKvX83p0-ka4JS3dc6E5A</td>\n",
       "      <td>5</td>\n",
       "      <td>My wife took me here on my birthday for breakf...</td>\n",
       "      <td>review</td>\n",
       "      <td>rLtl8ZkDX5vH5nAx9C3q5Q</td>\n",
       "      <td>2</td>\n",
       "      <td>5</td>\n",
       "      <td>0</td>\n",
       "    </tr>\n",
       "    <tr>\n",
       "      <th>1</th>\n",
       "      <td>ZRJwVLyzEJq1VAihDhYiow</td>\n",
       "      <td>2011-07-27</td>\n",
       "      <td>IjZ33sJrzXqU-0X6U8NwyA</td>\n",
       "      <td>5</td>\n",
       "      <td>I have no idea why some people give bad review...</td>\n",
       "      <td>review</td>\n",
       "      <td>0a2KyEL0d3Yb1V6aivbIuQ</td>\n",
       "      <td>0</td>\n",
       "      <td>0</td>\n",
       "      <td>0</td>\n",
       "    </tr>\n",
       "    <tr>\n",
       "      <th>2</th>\n",
       "      <td>6oRAC4uyJCsJl1X0WZpVSA</td>\n",
       "      <td>2012-06-14</td>\n",
       "      <td>IESLBzqUCLdSzSqm0eCSxQ</td>\n",
       "      <td>4</td>\n",
       "      <td>love the gyro plate. Rice is so good and I als...</td>\n",
       "      <td>review</td>\n",
       "      <td>0hT2KtfLiobPvh6cDC8JQg</td>\n",
       "      <td>0</td>\n",
       "      <td>1</td>\n",
       "      <td>0</td>\n",
       "    </tr>\n",
       "    <tr>\n",
       "      <th>3</th>\n",
       "      <td>_1QQZuf4zZOyFCvXc0o6Vg</td>\n",
       "      <td>2010-05-27</td>\n",
       "      <td>G-WvGaISbqqaMHlNnByodA</td>\n",
       "      <td>5</td>\n",
       "      <td>Rosie, Dakota, and I LOVE Chaparral Dog Park!!...</td>\n",
       "      <td>review</td>\n",
       "      <td>uZetl9T0NcROGOyFfughhg</td>\n",
       "      <td>1</td>\n",
       "      <td>2</td>\n",
       "      <td>0</td>\n",
       "    </tr>\n",
       "    <tr>\n",
       "      <th>4</th>\n",
       "      <td>6ozycU1RpktNG2-1BroVtw</td>\n",
       "      <td>2012-01-05</td>\n",
       "      <td>1uJFq2r5QfJG_6ExMRCaGw</td>\n",
       "      <td>5</td>\n",
       "      <td>General Manager Scott Petello is a good egg!!!...</td>\n",
       "      <td>review</td>\n",
       "      <td>vYmM4KTsC8ZfQBg-j5MWkw</td>\n",
       "      <td>0</td>\n",
       "      <td>0</td>\n",
       "      <td>0</td>\n",
       "    </tr>\n",
       "  </tbody>\n",
       "</table>\n",
       "</div>"
      ],
      "text/plain": [
       "              business_id        date               review_id  stars  \\\n",
       "0  9yKzy9PApeiPPOUJEtnvkg  2011-01-26  fWKvX83p0-ka4JS3dc6E5A      5   \n",
       "1  ZRJwVLyzEJq1VAihDhYiow  2011-07-27  IjZ33sJrzXqU-0X6U8NwyA      5   \n",
       "2  6oRAC4uyJCsJl1X0WZpVSA  2012-06-14  IESLBzqUCLdSzSqm0eCSxQ      4   \n",
       "3  _1QQZuf4zZOyFCvXc0o6Vg  2010-05-27  G-WvGaISbqqaMHlNnByodA      5   \n",
       "4  6ozycU1RpktNG2-1BroVtw  2012-01-05  1uJFq2r5QfJG_6ExMRCaGw      5   \n",
       "\n",
       "                                                text    type  \\\n",
       "0  My wife took me here on my birthday for breakf...  review   \n",
       "1  I have no idea why some people give bad review...  review   \n",
       "2  love the gyro plate. Rice is so good and I als...  review   \n",
       "3  Rosie, Dakota, and I LOVE Chaparral Dog Park!!...  review   \n",
       "4  General Manager Scott Petello is a good egg!!!...  review   \n",
       "\n",
       "                  user_id  cool  useful  funny  \n",
       "0  rLtl8ZkDX5vH5nAx9C3q5Q     2       5      0  \n",
       "1  0a2KyEL0d3Yb1V6aivbIuQ     0       0      0  \n",
       "2  0hT2KtfLiobPvh6cDC8JQg     0       1      0  \n",
       "3  uZetl9T0NcROGOyFfughhg     1       2      0  \n",
       "4  vYmM4KTsC8ZfQBg-j5MWkw     0       0      0  "
      ]
     },
     "execution_count": 115,
     "metadata": {},
     "output_type": "execute_result"
    }
   ],
   "source": [
    "data.head()"
   ]
  },
  {
   "cell_type": "code",
   "execution_count": 116,
   "metadata": {},
   "outputs": [
    {
     "name": "stdout",
     "output_type": "stream",
     "text": [
      "<class 'pandas.core.frame.DataFrame'>\n",
      "RangeIndex: 10000 entries, 0 to 9999\n",
      "Data columns (total 10 columns):\n",
      " #   Column       Non-Null Count  Dtype \n",
      "---  ------       --------------  ----- \n",
      " 0   business_id  10000 non-null  object\n",
      " 1   date         10000 non-null  object\n",
      " 2   review_id    10000 non-null  object\n",
      " 3   stars        10000 non-null  int64 \n",
      " 4   text         10000 non-null  object\n",
      " 5   type         10000 non-null  object\n",
      " 6   user_id      10000 non-null  object\n",
      " 7   cool         10000 non-null  int64 \n",
      " 8   useful       10000 non-null  int64 \n",
      " 9   funny        10000 non-null  int64 \n",
      "dtypes: int64(4), object(6)\n",
      "memory usage: 781.4+ KB\n"
     ]
    }
   ],
   "source": [
    "data.info()"
   ]
  },
  {
   "cell_type": "code",
   "execution_count": 117,
   "metadata": {},
   "outputs": [
    {
     "name": "stdout",
     "output_type": "stream",
     "text": [
      "business_id                    :  4174 labels      :  object\n",
      "date                           :  1995 labels      :  object\n",
      "review_id                      :  10000 labels      :  object\n",
      "stars                          :  5 labels      :  int64\n",
      "text                           :  9998 labels      :  object\n",
      "type                           :  1 labels      :  object\n",
      "user_id                        :  6403 labels      :  object\n",
      "cool                           :  29 labels      :  int64\n",
      "useful                         :  28 labels      :  int64\n",
      "funny                          :  29 labels      :  int64\n"
     ]
    }
   ],
   "source": [
    "for col in data.columns:\n",
    "    print(col.ljust(30),': ',len(data[col].unique()),'labels'.ljust(10),' : ',data[col].dtype)"
   ]
  },
  {
   "cell_type": "markdown",
   "metadata": {},
   "source": [
    "## Dropping Unnecessary Columns"
   ]
  },
  {
   "cell_type": "code",
   "execution_count": 118,
   "metadata": {},
   "outputs": [],
   "source": [
    "data = data.drop(['review_id'],axis = 1)\n",
    "data = data.drop(['type'],axis = 1)"
   ]
  },
  {
   "cell_type": "markdown",
   "metadata": {},
   "source": [
    "## Plotting to get a sense of data\n",
    "### Box Plot and Count Plot"
   ]
  },
  {
   "cell_type": "code",
   "execution_count": 119,
   "metadata": {},
   "outputs": [
    {
     "data": {
      "text/plain": [
       "<AxesSubplot:xlabel='stars'>"
      ]
     },
     "execution_count": 119,
     "metadata": {},
     "output_type": "execute_result"
    },
    {
     "data": {
      "image/png": "[encoded data removed]",
      "text/plain": [
       "<Figure size 432x288 with 1 Axes>"
      ]
     },
     "metadata": {
      "needs_background": "light"
     },
     "output_type": "display_data"
    }
   ],
   "source": [
    "sns.boxplot(data=data,x=data['stars'])"
   ]
  },
  {
   "cell_type": "code",
   "execution_count": 120,
   "metadata": {},
   "outputs": [
    {
     "data": {
      "text/plain": [
       "<AxesSubplot:xlabel='cool', ylabel='count'>"
      ]
     },
     "execution_count": 120,
     "metadata": {},
     "output_type": "execute_result"
    },
    {
     "data": {
      "image/png": "[encoded data removed]",
      "text/plain": [
       "<Figure size 432x288 with 1 Axes>"
      ]
     },
     "metadata": {
      "needs_background": "light"
     },
     "output_type": "display_data"
    }
   ],
   "source": [
    "sns.countplot(data=data,x=data['cool'])"
   ]
  },
  {
   "cell_type": "code",
   "execution_count": 121,
   "metadata": {},
   "outputs": [
    {
     "data": {
      "text/plain": [
       "<AxesSubplot:xlabel='useful', ylabel='count'>"
      ]
     },
     "execution_count": 121,
     "metadata": {},
     "output_type": "execute_result"
    },
    {
     "data": {
      "image/png": "[encoded data removed]",
      "text/plain": [
       "<Figure size 432x288 with 1 Axes>"
      ]
     },
     "metadata": {
      "needs_background": "light"
     },
     "output_type": "display_data"
    }
   ],
   "source": [
    "sns.countplot(data=data,x=data['useful'])"
   ]
  },
  {
   "cell_type": "code",
   "execution_count": 122,
   "metadata": {},
   "outputs": [
    {
     "data": {
      "text/plain": [
       "<AxesSubplot:xlabel='funny', ylabel='count'>"
      ]
     },
     "execution_count": 122,
     "metadata": {},
     "output_type": "execute_result"
    },
    {
     "data": {
      "image/png": "[encoded data removed]",
      "text/plain": [
       "<Figure size 432x288 with 1 Axes>"
      ]
     },
     "metadata": {
      "needs_background": "light"
     },
     "output_type": "display_data"
    }
   ],
   "source": [
    "sns.countplot(data=data,x=data['funny'])"
   ]
  },
  {
   "cell_type": "markdown",
   "metadata": {},
   "source": [
    "## Count of values for each star"
   ]
  },
  {
   "cell_type": "code",
   "execution_count": 145,
   "metadata": {},
   "outputs": [
    {
     "data": {
      "text/plain": [
       "4    3526\n",
       "5    3337\n",
       "3    1461\n",
       "2     927\n",
       "1     749\n",
       "Name: stars, dtype: int64"
      ]
     },
     "execution_count": 145,
     "metadata": {},
     "output_type": "execute_result"
    }
   ],
   "source": [
    "data['stars'].value_counts()\n"
   ]
  },
  {
   "cell_type": "markdown",
   "metadata": {},
   "source": [
    "## Checking NULL values"
   ]
  },
  {
   "cell_type": "code",
   "execution_count": 146,
   "metadata": {},
   "outputs": [
    {
     "data": {
      "text/plain": [
       "business_id             0\n",
       "date                    0\n",
       "stars                   0\n",
       "text                    0\n",
       "user_id                 0\n",
       "cool                    0\n",
       "useful                  0\n",
       "funny                   0\n",
       "body_text_clean         0\n",
       "body_text_tokenized     0\n",
       "body_text_nostop        0\n",
       "body_text_lemmatized    0\n",
       "text1                   0\n",
       "dtype: int64"
      ]
     },
     "execution_count": 146,
     "metadata": {},
     "output_type": "execute_result"
    }
   ],
   "source": [
    "count=data.isna().sum()\n",
    "count"
   ]
  },
  {
   "cell_type": "markdown",
   "metadata": {},
   "source": [
    "## Making a new dataframe with feature and label"
   ]
  },
  {
   "cell_type": "code",
   "execution_count": 147,
   "metadata": {},
   "outputs": [
    {
     "data": {
      "text/html": [
       "<div>\n",
       "<style scoped>\n",
       "    .dataframe tbody tr th:only-of-type {\n",
       "        vertical-align: middle;\n",
       "    }\n",
       "\n",
       "    .dataframe tbody tr th {\n",
       "        vertical-align: top;\n",
       "    }\n",
       "\n",
       "    .dataframe thead th {\n",
       "        text-align: right;\n",
       "    }\n",
       "</style>\n",
       "<table border=\"1\" class=\"dataframe\">\n",
       "  <thead>\n",
       "    <tr style=\"text-align: right;\">\n",
       "      <th></th>\n",
       "      <th>text</th>\n",
       "      <th>stars</th>\n",
       "    </tr>\n",
       "  </thead>\n",
       "  <tbody>\n",
       "    <tr>\n",
       "      <th>0</th>\n",
       "      <td>My wife took me here on my birthday for breakf...</td>\n",
       "      <td>5</td>\n",
       "    </tr>\n",
       "    <tr>\n",
       "      <th>1</th>\n",
       "      <td>I have no idea why some people give bad review...</td>\n",
       "      <td>5</td>\n",
       "    </tr>\n",
       "    <tr>\n",
       "      <th>2</th>\n",
       "      <td>love the gyro plate. Rice is so good and I als...</td>\n",
       "      <td>4</td>\n",
       "    </tr>\n",
       "    <tr>\n",
       "      <th>3</th>\n",
       "      <td>Rosie, Dakota, and I LOVE Chaparral Dog Park!!...</td>\n",
       "      <td>5</td>\n",
       "    </tr>\n",
       "    <tr>\n",
       "      <th>4</th>\n",
       "      <td>General Manager Scott Petello is a good egg!!!...</td>\n",
       "      <td>5</td>\n",
       "    </tr>\n",
       "  </tbody>\n",
       "</table>\n",
       "</div>"
      ],
      "text/plain": [
       "                                                text  stars\n",
       "0  My wife took me here on my birthday for breakf...      5\n",
       "1  I have no idea why some people give bad review...      5\n",
       "2  love the gyro plate. Rice is so good and I als...      4\n",
       "3  Rosie, Dakota, and I LOVE Chaparral Dog Park!!...      5\n",
       "4  General Manager Scott Petello is a good egg!!!...      5"
      ]
     },
     "execution_count": 147,
     "metadata": {},
     "output_type": "execute_result"
    }
   ],
   "source": [
    "data1 = pd.DataFrame(data,columns = ['text','stars'])\n",
    "data1.head()"
   ]
  },
  {
   "cell_type": "markdown",
   "metadata": {},
   "source": [
    "## Removing Punctuations"
   ]
  },
  {
   "cell_type": "code",
   "execution_count": 148,
   "metadata": {},
   "outputs": [],
   "source": [
    "import string\n",
    "string.punctuation\n",
    "\n",
    "def remove_punct (text):\n",
    "    text_nopunct = \"\".join([char for char in text if char not in string.punctuation ])\n",
    "    return text_nopunct\n",
    "\n",
    "data1['body_text_clean'] = data1['text'].apply(lambda x:remove_punct(x))"
   ]
  },
  {
   "cell_type": "markdown",
   "metadata": {},
   "source": [
    "## Tokenizing"
   ]
  },
  {
   "cell_type": "code",
   "execution_count": 154,
   "metadata": {},
   "outputs": [
    {
     "data": {
      "text/plain": [
       "0    [my, wife, took, me, here, on, my, birthday, f...\n",
       "1    [i, have, no, idea, why, some, people, give, b...\n",
       "2    [love, the, gyro, plate, rice, is, so, good, a...\n",
       "3    [rosie, dakota, and, i, love, chaparral, dog, ...\n",
       "4    [general, manager, scott, petello, is, a, good...\n",
       "Name: body_text_tokenized, dtype: object"
      ]
     },
     "execution_count": 154,
     "metadata": {},
     "output_type": "execute_result"
    }
   ],
   "source": [
    "import re \n",
    "def tokenize(text):\n",
    "    tokens = re.split('\\W+',text)\n",
    "    return tokens\n",
    "\n",
    "data1['body_text_tokenized'] = data1['body_text_clean'].apply(lambda x:tokenize(x.lower()))\n",
    "data1['body_text_tokenized'].head()"
   ]
  },
  {
   "cell_type": "markdown",
   "metadata": {},
   "source": [
    "## Removing Stopwords"
   ]
  },
  {
   "cell_type": "code",
   "execution_count": 155,
   "metadata": {},
   "outputs": [
    {
     "data": {
      "text/plain": [
       "0    [wife, took, birthday, breakfast, excellent, w...\n",
       "1    [idea, people, give, bad, reviews, place, goes...\n",
       "2    [love, gyro, plate, rice, good, also, dig, can...\n",
       "3    [rosie, dakota, love, chaparral, dog, park, co...\n",
       "4    [general, manager, scott, petello, good, egg, ...\n",
       "Name: body_text_nostop, dtype: object"
      ]
     },
     "execution_count": 155,
     "metadata": {},
     "output_type": "execute_result"
    }
   ],
   "source": [
    "stop_words = nltk.corpus.stopwords.words('english')\n",
    "\n",
    "def remove_stopwords(tokenized_list):\n",
    "    text = [word for word in tokenized_list if word not in stop_words]\n",
    "    return text\n",
    "\n",
    "data1['body_text_nostop'] = data1['body_text_tokenized'].apply(lambda x: remove_stopwords(x))\n",
    "data1['body_text_nostop'].head()"
   ]
  },
  {
   "cell_type": "markdown",
   "metadata": {},
   "source": [
    "## Lemmatizing"
   ]
  },
  {
   "cell_type": "code",
   "execution_count": 158,
   "metadata": {},
   "outputs": [
    {
     "data": {
      "text/plain": [
       "0    [wife, took, birthday, breakfast, excellent, w...\n",
       "1    [idea, people, give, bad, review, place, go, s...\n",
       "2    [love, gyro, plate, rice, good, also, dig, can...\n",
       "3    [rosie, dakota, love, chaparral, dog, park, co...\n",
       "4    [general, manager, scott, petello, good, egg, ...\n",
       "Name: body_text_lemmatized, dtype: object"
      ]
     },
     "execution_count": 158,
     "metadata": {},
     "output_type": "execute_result"
    }
   ],
   "source": [
    "wn = nltk.WordNetLemmatizer()\n",
    "\n",
    "def lemmatizing(tokenized_text):\n",
    "    text = [wn.lemmatize(word) for word in tokenized_text]\n",
    "    return text\n",
    "\n",
    "data1['body_text_lemmatized'] = data1['body_text_nostop'].apply(lambda x:lemmatizing(x))\n",
    "data1['body_text_lemmatized'].head()"
   ]
  },
  {
   "cell_type": "markdown",
   "metadata": {},
   "source": [
    "## Vectorization"
   ]
  },
  {
   "cell_type": "code",
   "execution_count": null,
   "metadata": {},
   "outputs": [],
   "source": [
    "from sklearn.feature_extraction.text import CountVectorizer\n",
    "from sklearn.metrics import mean_squared_error\n",
    "\n",
    "\n",
    "\n",
    "def clean_text (text):\n",
    "    text = \"\".join([word.lower() for word in text if word not in string.punctuation])\n",
    "    tokens = re.split('\\W+',text)\n",
    "    text = [ps.stem(word) for word in tokens if word not in stop_words]\n",
    "    return text\n",
    "\n",
    "\n",
    "count_vect = CountVectorizer(analyzer=clean_text)\n",
    "X_counts = count_vect.fit_transform(data1['body_text_clean'])\n"
   ]
  },
  {
   "cell_type": "markdown",
   "metadata": {},
   "source": [
    "## Visualizing most common words"
   ]
  },
  {
   "cell_type": "code",
   "execution_count": 162,
   "metadata": {},
   "outputs": [
    {
     "data": {
      "image/png": "[encoded data removed]",
      "text/plain": [
       "<Figure size 1008x576 with 1 Axes>"
      ]
     },
     "metadata": {
      "needs_background": "light"
     },
     "output_type": "display_data"
    },
    {
     "data": {
      "text/plain": [
       "[('the', 63808),\n",
       " ('and', 42959),\n",
       " ('a', 35667),\n",
       " ('i', 33228),\n",
       " ('to', 29781),\n",
       " ('of', 20737),\n",
       " ('was', 19727),\n",
       " ('is', 16905),\n",
       " ('for', 14778),\n",
       " ('it', 14170)]"
      ]
     },
     "execution_count": 162,
     "metadata": {},
     "output_type": "execute_result"
    }
   ],
   "source": [
    "import string\n",
    "plt.figure(figsize = (14,8))\n",
    "txt = \" \".join(data1['text'])\n",
    "words = txt.translate(string.punctuation).lower().split()\n",
    "fd = nltk.FreqDist(words)\n",
    "fd.plot(50,cumulative = False)\n",
    "\n",
    "fd.most_common(10)"
   ]
  },
  {
   "cell_type": "markdown",
   "metadata": {},
   "source": [
    "## Finding most common words"
   ]
  },
  {
   "cell_type": "code",
   "execution_count": 163,
   "metadata": {},
   "outputs": [
    {
     "name": "stdout",
     "output_type": "stream",
     "text": [
      "[('w', 122222), ('u', 88280), ('v', 64336), ('st', 36200), ('ut', 24888)]\n",
      "['w', 'u', 'v', 'st', 'ut', 'us', 'ss', 'x', 'tt', 'ts']\n"
     ]
    }
   ],
   "source": [
    "from nltk.corpus import stopwords\n",
    "import re\n",
    "word_list = []\n",
    "i=0\n",
    "\n",
    "for txt in data1['text']:\n",
    "    w_list = re.sub(r'[^s-z]',' ',txt.lower()).split()\n",
    "    data1.loc[i, 'text1'] = ' '.join(w_list)\n",
    "    w_list = [w for w in w_list if w not in stopwords.words('english')]\n",
    "    word_list += w_list\n",
    "    i+=1\n",
    "    \n",
    "    \n",
    "all_words_fd = nltk.FreqDist(word_list)\n",
    "word_common = all_words_fd.most_common(3000)\n",
    "word_features = [w[0] for w in word_common]\n",
    "print(word_common[0:5])\n",
    "print(word_features[0:10])"
   ]
  },
  {
   "cell_type": "markdown",
   "metadata": {},
   "source": [
    "## Splitting data into training and testing dataset"
   ]
  },
  {
   "cell_type": "code",
   "execution_count": 160,
   "metadata": {},
   "outputs": [],
   "source": [
    "X = data1['text']\n",
    "cv = CountVectorizer()\n",
    "X = cv.fit_transform(X)\n",
    "Y = data1['stars']\n",
    "\n",
    "X_train, X_test, y_train, y_test = train_test_split(X,Y, test_size=0.33, random_state=35)"
   ]
  },
  {
   "cell_type": "markdown",
   "metadata": {},
   "source": [
    "## Importing Training Model and Training on the dataset and Fitting the classifier"
   ]
  },
  {
   "cell_type": "code",
   "execution_count": null,
   "metadata": {},
   "outputs": [],
   "source": [
    "from sklearn.naive_bayes import MultinomialNB\n",
    "\n",
    "mnb = MultinomialNB()\n",
    "mnb.fit(X_train, y_train)"
   ]
  },
  {
   "cell_type": "markdown",
   "metadata": {},
   "source": [
    "## Making predictions"
   ]
  },
  {
   "cell_type": "code",
   "execution_count": 169,
   "metadata": {},
   "outputs": [
    {
     "data": {
      "text/plain": [
       "array([5, 1, 4, ..., 4, 4, 4], dtype=int64)"
      ]
     },
     "execution_count": 169,
     "metadata": {},
     "output_type": "execute_result"
    }
   ],
   "source": [
    "y_test_pred = mnb.predict(X_test)\n",
    "y_test_pred"
   ]
  },
  {
   "cell_type": "markdown",
   "metadata": {},
   "source": [
    "## Finding features "
   ]
  },
  {
   "cell_type": "code",
   "execution_count": 138,
   "metadata": {},
   "outputs": [
    {
     "name": "stdout",
     "output_type": "stream",
     "text": [
      "2011-01-26\n",
      "212\n"
     ]
    },
    {
     "data": {
      "text/plain": [
       "{'w': False,\n",
       " 'u': False,\n",
       " 'v': False,\n",
       " 'st': False,\n",
       " 'ut': False,\n",
       " 'us': False,\n",
       " 'ss': False,\n",
       " 'x': False,\n",
       " 'tt': False,\n",
       " 'ts': False,\n",
       " 'su': False,\n",
       " 'ust': False,\n",
       " 'z': False,\n",
       " 'tu': False,\n",
       " 'ty': False,\n",
       " 'ys': False,\n",
       " 'tw': False,\n",
       " 'xt': False,\n",
       " 'tty': False,\n",
       " 'zz': False,\n",
       " 'yt': False,\n",
       " 'sty': False,\n",
       " 'sw': False,\n",
       " 'stu': False,\n",
       " 'ws': False,\n",
       " 'uts': False,\n",
       " 'uy': False,\n",
       " 'yu': False,\n",
       " 'sy': False,\n",
       " 'usu': False,\n",
       " 'utt': False,\n",
       " 'sus': False,\n",
       " 'tts': False,\n",
       " 'yw': False,\n",
       " 'usy': False,\n",
       " 'ssu': False,\n",
       " 'sts': False,\n",
       " 'zy': False,\n",
       " 'vy': False,\n",
       " 'uys': False,\n",
       " 'ttu': False,\n",
       " 'tz': False,\n",
       " 'uss': False,\n",
       " 'tv': False,\n",
       " 'xtu': False,\n",
       " 'ux': False,\n",
       " 'utst': False,\n",
       " 'ssy': False,\n",
       " 'yst': False,\n",
       " 'utu': False,\n",
       " 'wy': False,\n",
       " 'syst': False,\n",
       " 'wt': False,\n",
       " 'zu': False,\n",
       " 'www': False,\n",
       " 'vs': False,\n",
       " 'uzz': False,\n",
       " 'tut': False,\n",
       " 'tst': False,\n",
       " 'uv': False,\n",
       " 'tvs': False,\n",
       " 'tus': False,\n",
       " 'xy': False,\n",
       " 'uz': False,\n",
       " 'uty': False,\n",
       " 'usty': False,\n",
       " 'uxu': False,\n",
       " 'tsu': False,\n",
       " 'uu': False,\n",
       " 'xu': False,\n",
       " 'vu': False,\n",
       " 'sust': False,\n",
       " 'tsy': False,\n",
       " 'ussy': False,\n",
       " 'ssw': False,\n",
       " 'utty': False,\n",
       " 'sz': False,\n",
       " 'zs': False,\n",
       " 'stw': False,\n",
       " 'tys': False,\n",
       " 'ww': False,\n",
       " 'suv': False,\n",
       " 'tx': False,\n",
       " 'zzy': False,\n",
       " 'sut': False,\n",
       " 'uzzy': False,\n",
       " 'yyy': False,\n",
       " 'utts': False,\n",
       " 'yv': False,\n",
       " 'ttsy': False,\n",
       " 'sv': False,\n",
       " 'twu': False,\n",
       " 'vw': False,\n",
       " 'vvy': False,\n",
       " 'wu': False,\n",
       " 'yyyy': False,\n",
       " 'xx': False,\n",
       " 'xty': False,\n",
       " 'xus': False,\n",
       " 'wz': False,\n",
       " 'yz': False,\n",
       " 'zuzu': False,\n",
       " 'swu': False,\n",
       " 'tzy': False,\n",
       " 'uuuu': False,\n",
       " 'utw': False,\n",
       " 'uzy': False,\n",
       " 'zw': False,\n",
       " 'ustw': False,\n",
       " 'yuzu': False,\n",
       " 'wss': False,\n",
       " 'sst': False,\n",
       " 'wwww': False,\n",
       " 'sss': False,\n",
       " 'usts': False,\n",
       " 'zt': False,\n",
       " 'xts': False,\n",
       " 'ytw': False,\n",
       " 'yus': False,\n",
       " 'uuuuu': False,\n",
       " 'uuu': False,\n",
       " 'sssss': False,\n",
       " 'tyw': False,\n",
       " 'xs': False,\n",
       " 'wwy': False,\n",
       " 'uxt': False,\n",
       " 'tttyyy': False,\n",
       " 'yyyyy': False,\n",
       " 'vyw': False,\n",
       " 'yyyyyy': False,\n",
       " 'tutt': False,\n",
       " 'wussy': False,\n",
       " 'ttt': False,\n",
       " 'ssus': False,\n",
       " 'zzz': False,\n",
       " 'stutt': False,\n",
       " 'tttt': False,\n",
       " 'wst': False,\n",
       " 'wuss': False,\n",
       " 'svs': False,\n",
       " 'ssss': False,\n",
       " 'vv': False,\n",
       " 'sys': False,\n",
       " 'uxvx': False,\n",
       " 'xz': False,\n",
       " 'suuu': False,\n",
       " 'susy': False,\n",
       " 'zzzzzzzzzzzzzzzzz': False,\n",
       " 'zuzus': False,\n",
       " 'yy': False,\n",
       " 'uuuust': False,\n",
       " 'uvs': False,\n",
       " 'xxx': False,\n",
       " 'uuuuuu': False,\n",
       " 'utus': False,\n",
       " 'uww': False,\n",
       " 'suvs': False,\n",
       " 'wv': False,\n",
       " 'ssys': False,\n",
       " 'zzyyy': False,\n",
       " 'yuu': False,\n",
       " 'suuuu': False,\n",
       " 'uw': False,\n",
       " 'tutu': False,\n",
       " 'wwt': False,\n",
       " 'yyyyzt': False,\n",
       " 'wzt': False,\n",
       " 'xtuy': False,\n",
       " 'suuuuuuu': False,\n",
       " 'stut': False,\n",
       " 'yss': False,\n",
       " 'xxxx': False,\n",
       " 'wxs': False,\n",
       " 'yxy': False,\n",
       " 'tttttt': False,\n",
       " 'ssssss': False,\n",
       " 'ustu': False,\n",
       " 'utz': False,\n",
       " 'tsuw': False,\n",
       " 'uttttt': False,\n",
       " 'yuyuyu': False,\n",
       " 'yx': False,\n",
       " 'zxxt': False,\n",
       " 'uuust': False,\n",
       " 'twss': False,\n",
       " 'vus': False,\n",
       " 'yux': False,\n",
       " 'yyyyyyyyy': False,\n",
       " 'uuv': False,\n",
       " 'yyv': False,\n",
       " 'sutu': False,\n",
       " 'wtu': False,\n",
       " 'stv': False,\n",
       " 'wwwu': False,\n",
       " 'yyyyyyy': False,\n",
       " 'yws': False,\n",
       " 'sux': False,\n",
       " 'tux': False,\n",
       " 'wwwwww': False,\n",
       " 'tuss': False,\n",
       " 'yuuuu': False,\n",
       " 'stys': False,\n",
       " 'tss': False,\n",
       " 'wys': False,\n",
       " 'vvvv': False,\n",
       " 'usus': False,\n",
       " 'xyz': False,\n",
       " 'syzz': False,\n",
       " 'yuuuuuuu': False,\n",
       " 'utsy': False,\n",
       " 'yuuuuu': False,\n",
       " 'zzzzzz': False}"
      ]
     },
     "execution_count": 138,
     "metadata": {},
     "output_type": "execute_result"
    }
   ],
   "source": [
    "def find_feature(document):\n",
    "    features = {}\n",
    "    words = document.split()\n",
    "    for w in word_common:\n",
    "        features[w[0]]=(w[0] in words)\n",
    "    return features\n",
    "\n",
    "Feature_set = []\n",
    "for i, row in enumerate(data.values):\n",
    "    q,label,text,text_len,text1,q,q,q,q,q,q,q,q= row\n",
    "    Feature_set.append((find_feature(text1),label))\n",
    "    \n",
    "    \n",
    "print (Feature_set[0][1])\n",
    "print(len(Feature_set[0][0]))\n",
    "Feature_set[0][0]\n",
    "\n",
    "    "
   ]
  },
  {
   "cell_type": "code",
   "execution_count": 170,
   "metadata": {},
   "outputs": [
    {
     "name": "stdout",
     "output_type": "stream",
     "text": [
      "2011-01-26\n"
     ]
    }
   ],
   "source": [
    "print (Feature_set[0][1])"
   ]
  },
  {
   "cell_type": "markdown",
   "metadata": {},
   "source": [
    "## Defining Train Set and Test Set"
   ]
  },
  {
   "cell_type": "code",
   "execution_count": 171,
   "metadata": {},
   "outputs": [],
   "source": [
    "train_set = Feature_set[:3000]\n",
    "test_set  = Feature_set[3000:]"
   ]
  },
  {
   "cell_type": "markdown",
   "metadata": {},
   "source": [
    "## Fitting a Classifier"
   ]
  },
  {
   "cell_type": "code",
   "execution_count": 172,
   "metadata": {},
   "outputs": [],
   "source": [
    "classifier = nltk.NaiveBayesClassifier.train(train_set)"
   ]
  },
  {
   "cell_type": "markdown",
   "metadata": {},
   "source": [
    "## Finding the accuracy of the data."
   ]
  },
  {
   "cell_type": "code",
   "execution_count": null,
   "metadata": {},
   "outputs": [],
   "source": [
    "print(nltk.classify.accuracy(classifier,test_set)*100)"
   ]
  },
  {
   "cell_type": "code",
   "execution_count": null,
   "metadata": {},
   "outputs": [],
   "source": []
  }
 ],
 "metadata": {
  "kernelspec": {
   "display_name": "Python 3",
   "language": "python",
   "name": "python3"
  },
  "language_info": {
   "codemirror_mode": {
    "name": "ipython",
    "version": 3
   },
   "file_extension": ".py",
   "mimetype": "text/x-python",
   "name": "python",
   "nbconvert_exporter": "python",
   "pygments_lexer": "ipython3",
   "version": "3.8.3"
  }
 },
 "nbformat": 4,
 "nbformat_minor": 4
}
